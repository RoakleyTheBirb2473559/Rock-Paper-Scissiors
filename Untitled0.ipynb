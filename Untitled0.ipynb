{
  "nbformat": 4,
  "nbformat_minor": 0,
  "metadata": {
    "colab": {
      "name": "Untitled0.ipynb",
      "provenance": [],
      "authorship_tag": "ABX9TyNrrktb75Vdo9rDmP9/fdTr",
      "include_colab_link": true
    },
    "kernelspec": {
      "name": "python3",
      "display_name": "Python 3"
    },
    "language_info": {
      "name": "python"
    }
  },
  "cells": [
    {
      "cell_type": "markdown",
      "metadata": {
        "id": "view-in-github",
        "colab_type": "text"
      },
      "source": [
        "<a href=\"https://colab.research.google.com/github/RoakleyTheBirb2473559/Rock-Paper-Scissiors/blob/main/Untitled0.ipynb\" target=\"_parent\"><img src=\"https://colab.research.google.com/assets/colab-badge.svg\" alt=\"Open In Colab\"/></a>"
      ]
    },
    {
      "cell_type": "code",
      "source": [
        "import time as t\n",
        "import random as rnd\n",
        "\n",
        "#rock =  1\n",
        "#paper = 2\n",
        "#scissors = 3\n",
        "\n",
        "NVO=\"Not a Valid Option!\"\n",
        "\n",
        "while True:\n",
        "\n",
        "  print(\" Choose an Option: \\n Option 1: Play \\n Option 2: Instructions \\n Option 3: Exit \\n\")\n",
        "  Main_Menu=int(input(\" Enter Number 1, 2 or 3 \\n\"))\n",
        "\n",
        "  if Main_Menu==1:\n",
        "    while True:\n",
        "      print(\"Choose an Option: \\n Option 1: Play \\n Option 2: Back To Main Menu\")\n",
        "      play_game=int(input(\"\\n Enter Number 1 or 2 \\n\"))\n",
        "\n",
        "\n",
        "\n",
        "      if play_game==1:\n",
        "        print(\"Game Start\")\n",
        "        user=str(input(\"Choose 1 for 'Rock', 2 for 'Paper' or 3 for 'Scissors' \"))\n",
        "\n",
        "        if user == 1:\n",
        "          rps=rnd.randint(1-3)\n",
        "          if rps == 1:\n",
        "            print(\"You chose Rock, Your Opponent picked Rock . \\n Draw!\")\n",
        "          elif rps == 2:\n",
        "            print(\"You chose Rock, Your opponent chose Paper . \\n Bad Luck! Try Again \")\n",
        "          elif rps == 3:\n",
        "            print(\"You chose Rock, Your opponent chose Scissors . \\n You Win!\")\n",
        "\n",
        "\n",
        "\n",
        "\n",
        "\n",
        "        elif play_game==2:\n",
        "          break\n",
        "       \n",
        "            \n",
        "      else:\n",
        "        print(NVO)\n",
        "\n",
        "\n",
        "\n",
        "  elif Main_Menu==2:\n",
        "    print(\"Instructions:\")\n",
        "\n",
        "  elif Main_Menu==3:\n",
        "    break\n",
        "\n",
        "  else:\n",
        "        print(NVO)"
      ],
      "metadata": {
        "id": "s_encAsXbiLf",
        "colab": {
          "base_uri": "https://localhost:8080/"
        },
        "outputId": "3c9bfa22-48a0-46e8-d70d-5e748aa08632"
      },
      "execution_count": null,
      "outputs": [
        {
          "output_type": "stream",
          "name": "stdout",
          "text": [
            " Choose an Option: \n",
            " Option 1: Play \n",
            " Option 2: Instructions \n",
            " Option 3: Exit \n",
            "\n",
            " Enter Number 1, 2 or 3 \n",
            "1\n",
            "Choose an Option: \n",
            " Option 1: Play \n",
            " Option 2: Back To Main Menu\n",
            "\n",
            " Enter Number 1 or 2 \n",
            "1\n",
            "Game Start\n",
            "Choose 1 for 'Rock', 2 for 'Paper' or 3 for 'Scissors' 1\n",
            "Choose an Option: \n",
            " Option 1: Play \n",
            " Option 2: Back To Main Menu\n"
          ]
        }
      ]
    },
    {
      "cell_type": "markdown",
      "source": [
        "fix\n",
        "pls\n"
      ],
      "metadata": {
        "id": "ChLTz1JnpvTL"
      }
    },
    {
      "cell_type": "markdown",
      "source": [
        ""
      ],
      "metadata": {
        "id": "NpV0OX6Mpxt0"
      }
    }
  ]
}